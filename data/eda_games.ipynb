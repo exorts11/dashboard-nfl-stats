{
 "cells": [
  {
   "cell_type": "code",
   "execution_count": 1,
   "metadata": {},
   "outputs": [],
   "source": [
    "import pandas as pd\n",
    "import numpy as np"
   ]
  },
  {
   "cell_type": "code",
   "execution_count": 2,
   "metadata": {},
   "outputs": [
    {
     "data": {
      "text/html": [
       "<div>\n",
       "<style scoped>\n",
       "    .dataframe tbody tr th:only-of-type {\n",
       "        vertical-align: middle;\n",
       "    }\n",
       "\n",
       "    .dataframe tbody tr th {\n",
       "        vertical-align: top;\n",
       "    }\n",
       "\n",
       "    .dataframe thead th {\n",
       "        text-align: right;\n",
       "    }\n",
       "</style>\n",
       "<table border=\"1\" class=\"dataframe\">\n",
       "  <thead>\n",
       "    <tr style=\"text-align: right;\">\n",
       "      <th></th>\n",
       "      <th>gameId</th>\n",
       "      <th>season</th>\n",
       "      <th>week</th>\n",
       "      <th>gameDate</th>\n",
       "      <th>gameTimeEastern</th>\n",
       "      <th>homeTeamAbbr</th>\n",
       "      <th>visitorTeamAbbr</th>\n",
       "      <th>homeFinalScore</th>\n",
       "      <th>visitorFinalScore</th>\n",
       "    </tr>\n",
       "  </thead>\n",
       "  <tbody>\n",
       "    <tr>\n",
       "      <th>0</th>\n",
       "      <td>2022090800</td>\n",
       "      <td>2022</td>\n",
       "      <td>1</td>\n",
       "      <td>09/08/2022</td>\n",
       "      <td>20:20:00</td>\n",
       "      <td>LA</td>\n",
       "      <td>BUF</td>\n",
       "      <td>10</td>\n",
       "      <td>31</td>\n",
       "    </tr>\n",
       "    <tr>\n",
       "      <th>1</th>\n",
       "      <td>2022091100</td>\n",
       "      <td>2022</td>\n",
       "      <td>1</td>\n",
       "      <td>09/11/2022</td>\n",
       "      <td>13:00:00</td>\n",
       "      <td>ATL</td>\n",
       "      <td>NO</td>\n",
       "      <td>26</td>\n",
       "      <td>27</td>\n",
       "    </tr>\n",
       "    <tr>\n",
       "      <th>2</th>\n",
       "      <td>2022091101</td>\n",
       "      <td>2022</td>\n",
       "      <td>1</td>\n",
       "      <td>09/11/2022</td>\n",
       "      <td>13:00:00</td>\n",
       "      <td>CAR</td>\n",
       "      <td>CLE</td>\n",
       "      <td>24</td>\n",
       "      <td>26</td>\n",
       "    </tr>\n",
       "    <tr>\n",
       "      <th>3</th>\n",
       "      <td>2022091102</td>\n",
       "      <td>2022</td>\n",
       "      <td>1</td>\n",
       "      <td>09/11/2022</td>\n",
       "      <td>13:00:00</td>\n",
       "      <td>CHI</td>\n",
       "      <td>SF</td>\n",
       "      <td>19</td>\n",
       "      <td>10</td>\n",
       "    </tr>\n",
       "    <tr>\n",
       "      <th>4</th>\n",
       "      <td>2022091103</td>\n",
       "      <td>2022</td>\n",
       "      <td>1</td>\n",
       "      <td>09/11/2022</td>\n",
       "      <td>13:00:00</td>\n",
       "      <td>CIN</td>\n",
       "      <td>PIT</td>\n",
       "      <td>20</td>\n",
       "      <td>23</td>\n",
       "    </tr>\n",
       "  </tbody>\n",
       "</table>\n",
       "</div>"
      ],
      "text/plain": [
       "       gameId  season  week    gameDate gameTimeEastern homeTeamAbbr  \\\n",
       "0  2022090800    2022     1  09/08/2022        20:20:00           LA   \n",
       "1  2022091100    2022     1  09/11/2022        13:00:00          ATL   \n",
       "2  2022091101    2022     1  09/11/2022        13:00:00          CAR   \n",
       "3  2022091102    2022     1  09/11/2022        13:00:00          CHI   \n",
       "4  2022091103    2022     1  09/11/2022        13:00:00          CIN   \n",
       "\n",
       "  visitorTeamAbbr  homeFinalScore  visitorFinalScore  \n",
       "0             BUF              10                 31  \n",
       "1              NO              26                 27  \n",
       "2             CLE              24                 26  \n",
       "3              SF              19                 10  \n",
       "4             PIT              20                 23  "
      ]
     },
     "execution_count": 2,
     "metadata": {},
     "output_type": "execute_result"
    }
   ],
   "source": [
    "df = pd.read_csv('./data/games.csv')\n",
    "df.head()"
   ]
  },
  {
   "cell_type": "code",
   "execution_count": 10,
   "metadata": {},
   "outputs": [
    {
     "data": {
      "text/plain": [
       "(136, 9)"
      ]
     },
     "execution_count": 10,
     "metadata": {},
     "output_type": "execute_result"
    }
   ],
   "source": [
    "df.shape"
   ]
  },
  {
   "cell_type": "code",
   "execution_count": 8,
   "metadata": {},
   "outputs": [
    {
     "name": "stdout",
     "output_type": "stream",
     "text": [
      "<class 'pandas.core.frame.DataFrame'>\n",
      "RangeIndex: 136 entries, 0 to 135\n",
      "Data columns (total 9 columns):\n",
      " #   Column             Non-Null Count  Dtype \n",
      "---  ------             --------------  ----- \n",
      " 0   gameId             136 non-null    object\n",
      " 1   season             136 non-null    object\n",
      " 2   week               136 non-null    object\n",
      " 3   gameDate           136 non-null    object\n",
      " 4   gameTimeEastern    136 non-null    object\n",
      " 5   homeTeamAbbr       136 non-null    object\n",
      " 6   visitorTeamAbbr    136 non-null    object\n",
      " 7   homeFinalScore     136 non-null    object\n",
      " 8   visitorFinalScore  136 non-null    object\n",
      "dtypes: object(9)\n",
      "memory usage: 9.7+ KB\n",
      "None\n"
     ]
    }
   ],
   "source": [
    "print(df.info())"
   ]
  },
  {
   "cell_type": "code",
   "execution_count": 7,
   "metadata": {},
   "outputs": [],
   "source": [
    "for col in list(df.columns):\n",
    "    df.loc[:,col] = df.loc[:,col].astype('str')"
   ]
  },
  {
   "cell_type": "markdown",
   "metadata": {},
   "source": [
    "Upload data to database"
   ]
  },
  {
   "cell_type": "code",
   "execution_count": 11,
   "metadata": {},
   "outputs": [],
   "source": [
    "import mysql.connector\n",
    "from mysql.connector import Error\n",
    "\n",
    "\n",
    "conn = mysql.connector.connect(host='localhost',\n",
    "                                       database='nflplays',\n",
    "                                       user='nflAPI',\n",
    "                                       password='123456789')\n",
    "\n",
    "cur = conn.cursor()"
   ]
  },
  {
   "cell_type": "code",
   "execution_count": 12,
   "metadata": {},
   "outputs": [],
   "source": [
    "for idx in list(df.index.values):\n",
    "    cur.execute('''INSERT INTO `nflplays`.`games`\n",
    "                (`gameId`,\n",
    "                `season`,\n",
    "                `week`,\n",
    "                `gameDate`,\n",
    "                `gameTimeEastern`,\n",
    "                `homeTeamAbbr`,\n",
    "                `visitorTeamAbbr`,\n",
    "                `homeFinalScore`,\n",
    "                `visitorFinalScore`)\n",
    "                VALUES (%s, %s, %s, %s, %s, %s, %s, %s, %s);''', list( df.iloc[idx,:].values))\n",
    "\n",
    "conn.commit()"
   ]
  }
 ],
 "metadata": {
  "kernelspec": {
   "display_name": ".venv",
   "language": "python",
   "name": "python3"
  },
  "language_info": {
   "codemirror_mode": {
    "name": "ipython",
    "version": 3
   },
   "file_extension": ".py",
   "mimetype": "text/x-python",
   "name": "python",
   "nbconvert_exporter": "python",
   "pygments_lexer": "ipython3",
   "version": "3.12.1"
  }
 },
 "nbformat": 4,
 "nbformat_minor": 2
}
